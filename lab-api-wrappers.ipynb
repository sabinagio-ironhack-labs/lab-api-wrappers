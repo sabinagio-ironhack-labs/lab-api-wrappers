{
 "cells": [
  {
   "cell_type": "markdown",
   "metadata": {},
   "source": [
    "# Lab | API wrappers - Create your collection of songs & audio features\n",
    "\n",
    "\n",
    "#### Instructions \n",
    "\n",
    "\n",
    "To move forward with the project, you need to create a collection of songs with their audio features - as large as possible! \n",
    "\n",
    "These are the songs that we will cluster. And, later, when the user inputs a song, we will find the cluster to which the song belongs and recommend a song from the same cluster.\n",
    "The more songs you have, the more accurate and diverse recommendations you'll be able to give. Although... you might want to make sure the collected songs are \"curated\" in a certain way. Try to find playlists of songs that are diverse, but also that meet certain standards.\n",
    "\n",
    "The process of sending hundreds or thousands of requests can take some time - it's normal if you have to wait a few minutes (or, if you're ambitious, even hours) to get all the data you need.\n",
    "\n",
    "An idea for collecting as many songs as possible is to start with all the songs of a big, diverse playlist and then go to every artist present in the playlist and grab every song of every album of that artist. The amount of songs you'll be collecting per playlist will grow exponentially!"
   ]
  },
  {
   "cell_type": "code",
   "execution_count": 1,
   "metadata": {},
   "outputs": [],
   "source": [
    "import spotipy\n",
    "from spotipy.oauth2 import SpotifyClientCredentials\n",
    "import requests\n",
    "from bs4 import BeautifulSoup\n",
    "import getpass\n",
    "import pandas as pd\n",
    "import re\n",
    "import time"
   ]
  },
  {
   "cell_type": "code",
   "execution_count": 2,
   "metadata": {},
   "outputs": [],
   "source": [
    "client_id = \"31bb38d4d2c54b0e9b994db2a71040d5\"\n",
    "client_secret = getpass.getpass('Write client secret:')"
   ]
  },
  {
   "cell_type": "code",
   "execution_count": 3,
   "metadata": {},
   "outputs": [],
   "source": [
    "sp = spotipy.Spotify(auth_manager=SpotifyClientCredentials(client_id=client_id,\n",
    "                                                           client_secret=client_secret))"
   ]
  },
  {
   "cell_type": "code",
   "execution_count": 5,
   "metadata": {},
   "outputs": [],
   "source": [
    "country_codes= ['AD', 'AR', 'AU', 'AT', 'BE', 'BO', 'BR', 'BG', 'CA', 'CL', \\\n",
    "    'CO', 'CR', 'CY', 'CZ', 'DK', 'DO', 'EC', 'SV', 'EE', 'FI', 'FR', 'DE', \\\n",
    "    'GR', 'GT', 'HN', 'HK', 'HU', 'IS', 'ID', 'IE', 'IT', 'JP', 'LV', 'LI', \\\n",
    "    'LT', 'LU', 'MY', 'MT', 'MX', 'MC', 'NL', 'NZ', 'NI', 'NO', 'PA', 'PY', \\\n",
    "    'PE', 'PH', 'PL', 'PT', 'SG', 'ES', 'SK', 'SE', 'CH', 'TW', 'TR', 'GB', \\\n",
    "    'US', 'UY']"
   ]
  },
  {
   "cell_type": "code",
   "execution_count": 6,
   "metadata": {},
   "outputs": [],
   "source": [
    "# Save all Spotify featured playlists worldwide\n",
    "playlists = pd.DataFrame(columns=[\"playlist\", \"playlist_id\"])\n",
    "\n",
    "for country in country_codes:\n",
    "    featured = sp.featured_playlists(country=country, limit=50)\n",
    "    for playlist in featured['playlists']['items']:\n",
    "        playlist_name = playlist[\"name\"]\n",
    "        playlist_id = playlist[\"id\"]\n",
    "        playlists = playlists.append({\"playlist\": playlist_name, \\\n",
    "            \"playlist_id\": playlist_id}, ignore_index=True)\n",
    "\n",
    "playlists.drop_duplicates(inplace=True)"
   ]
  },
  {
   "cell_type": "code",
   "execution_count": null,
   "metadata": {},
   "outputs": [],
   "source": []
  }
 ],
 "metadata": {
  "interpreter": {
   "hash": "916dbcbb3f70747c44a77c7bcd40155683ae19c65e1c03b4aa3499c5328201f1"
  },
  "kernelspec": {
   "display_name": "Python 3.8.10 64-bit",
   "language": "python",
   "name": "python3"
  },
  "language_info": {
   "codemirror_mode": {
    "name": "ipython",
    "version": 3
   },
   "file_extension": ".py",
   "mimetype": "text/x-python",
   "name": "python",
   "nbconvert_exporter": "python",
   "pygments_lexer": "ipython3",
   "version": "3.8.10"
  },
  "orig_nbformat": 4
 },
 "nbformat": 4,
 "nbformat_minor": 2
}
